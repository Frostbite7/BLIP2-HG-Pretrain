{
 "cells": [
  {
   "cell_type": "code",
   "execution_count": 1,
   "id": "initial_id",
   "metadata": {
    "ExecuteTime": {
     "end_time": "2024-07-10T00:16:59.115997Z",
     "start_time": "2024-07-10T00:16:56.722537Z"
    },
    "collapsed": true
   },
   "outputs": [],
   "source": [
    "from transformers import Blip2Processor, BertTokenizer\n",
    "\n",
    "processor = Blip2Processor.from_pretrained(\"Salesforce/blip2-opt-2.7b\")"
   ]
  },
  {
   "cell_type": "code",
   "execution_count": 2,
   "id": "79c2e0486ab86da0",
   "metadata": {
    "ExecuteTime": {
     "end_time": "2024-07-10T00:17:01.811212Z",
     "start_time": "2024-07-10T00:17:01.594277Z"
    }
   },
   "outputs": [
    {
     "name": "stdout",
     "output_type": "stream",
     "text": [
      "<class 'transformers.models.blip_2.processing_blip_2.Blip2Processor'>\n",
      "Blip2Processor:\n",
      "- image_processor: BlipImageProcessor {\n",
      "  \"_valid_processor_keys\": [\n",
      "    \"images\",\n",
      "    \"do_resize\",\n",
      "    \"size\",\n",
      "    \"resample\",\n",
      "    \"do_rescale\",\n",
      "    \"rescale_factor\",\n",
      "    \"do_normalize\",\n",
      "    \"image_mean\",\n",
      "    \"image_std\",\n",
      "    \"do_convert_rgb\",\n",
      "    \"return_tensors\",\n",
      "    \"data_format\",\n",
      "    \"input_data_format\"\n",
      "  ],\n",
      "  \"do_convert_rgb\": true,\n",
      "  \"do_normalize\": true,\n",
      "  \"do_rescale\": true,\n",
      "  \"do_resize\": true,\n",
      "  \"image_mean\": [\n",
      "    0.48145466,\n",
      "    0.4578275,\n",
      "    0.40821073\n",
      "  ],\n",
      "  \"image_processor_type\": \"BlipImageProcessor\",\n",
      "  \"image_std\": [\n",
      "    0.26862954,\n",
      "    0.26130258,\n",
      "    0.27577711\n",
      "  ],\n",
      "  \"processor_class\": \"Blip2Processor\",\n",
      "  \"resample\": 3,\n",
      "  \"rescale_factor\": 0.00392156862745098,\n",
      "  \"size\": {\n",
      "    \"height\": 224,\n",
      "    \"width\": 224\n",
      "  }\n",
      "}\n",
      "\n",
      "- tokenizer: BertTokenizer(name_or_path='bert-base-uncased', vocab_size=30522, model_max_length=512, is_fast=False, padding_side='right', truncation_side='right', special_tokens={'bos_token': '[DEC]', 'unk_token': '[UNK]', 'sep_token': '[SEP]', 'pad_token': '[PAD]', 'cls_token': '[CLS]', 'mask_token': '[MASK]'}, clean_up_tokenization_spaces=True),  added_tokens_decoder={\n",
      "\t0: AddedToken(\"[PAD]\", rstrip=False, lstrip=False, single_word=False, normalized=False, special=True),\n",
      "\t100: AddedToken(\"[UNK]\", rstrip=False, lstrip=False, single_word=False, normalized=False, special=True),\n",
      "\t101: AddedToken(\"[CLS]\", rstrip=False, lstrip=False, single_word=False, normalized=False, special=True),\n",
      "\t102: AddedToken(\"[SEP]\", rstrip=False, lstrip=False, single_word=False, normalized=False, special=True),\n",
      "\t103: AddedToken(\"[MASK]\", rstrip=False, lstrip=False, single_word=False, normalized=False, special=True),\n",
      "\t30522: AddedToken(\"[DEC]\", rstrip=False, lstrip=False, single_word=False, normalized=False, special=True),\n",
      "}\n",
      "\n",
      "{\n",
      "  \"processor_class\": \"Blip2Processor\"\n",
      "}\n",
      "\n",
      "{'input_ids': [101, 7592, 1010, 2026, 3899, 2003, 10140, 102], 'token_type_ids': [0, 0, 0, 0, 0, 0, 0, 0], 'attention_mask': [1, 1, 1, 1, 1, 1, 1, 1]}\n"
     ]
    }
   ],
   "source": [
    "processor.tokenizer = BertTokenizer.from_pretrained(\"bert-base-uncased\")\n",
    "processor.tokenizer.add_special_tokens({\"bos_token\": \"[DEC]\"})\n",
    "\n",
    "tokenizer = processor.tokenizer\n",
    "\n",
    "print(type(processor))\n",
    "print(processor)\n",
    "print(tokenizer(\"Hello, my dog is cute\"))"
   ]
  },
  {
   "cell_type": "code",
   "execution_count": 18,
   "id": "d355eb146f01d4ed",
   "metadata": {
    "ExecuteTime": {
     "end_time": "2024-07-09T22:34:14.887079Z",
     "start_time": "2024-07-09T22:34:14.880221Z"
    }
   },
   "outputs": [
    {
     "name": "stdout",
     "output_type": "stream",
     "text": [
      "0\n"
     ]
    }
   ],
   "source": [
    "print(tokenizer.pad_token_id)"
   ]
  },
  {
   "cell_type": "code",
   "execution_count": 5,
   "id": "def6f8f15382de04",
   "metadata": {
    "ExecuteTime": {
     "end_time": "2024-07-09T22:04:03.662007Z",
     "start_time": "2024-07-09T22:04:03.656163Z"
    }
   },
   "outputs": [],
   "source": [
    "import sys\n",
    "\n",
    "# Add the folder to the system path\n",
    "sys.path.append('/media/workspace/yangyi/nlp/scripts/blip2')"
   ]
  },
  {
   "cell_type": "code",
   "execution_count": 16,
   "id": "998aeb9a7a80e0d9",
   "metadata": {
    "ExecuteTime": {
     "end_time": "2024-07-09T22:11:35.120553Z",
     "start_time": "2024-07-09T22:11:32.993216Z"
    }
   },
   "outputs": [],
   "source": [
    "from blip_2_m import Blip2QFormerModel\n",
    "from transformers import Blip2QFormerConfig\n",
    "import torch\n",
    "\n",
    "config = Blip2QFormerConfig()\n",
    "qformer = Blip2QFormerModel(config)\n",
    "mask_test = torch.Tensor([[1, 1, 0], [1, 0, 0]])\n",
    "extended_mask = qformer.invert_attention_mask(mask_test)"
   ]
  },
  {
   "cell_type": "code",
   "execution_count": 17,
   "id": "e23fd3efbee1f955",
   "metadata": {
    "ExecuteTime": {
     "end_time": "2024-07-09T22:11:37.092125Z",
     "start_time": "2024-07-09T22:11:37.082597Z"
    }
   },
   "outputs": [
    {
     "data": {
      "text/plain": [
       "tensor([[[[-0.0000e+00, -0.0000e+00, -3.4028e+38]]],\n",
       "\n",
       "\n",
       "        [[[-0.0000e+00, -3.4028e+38, -3.4028e+38]]]])"
      ]
     },
     "execution_count": 17,
     "metadata": {},
     "output_type": "execute_result"
    }
   ],
   "source": [
    "extended_mask"
   ]
  },
  {
   "cell_type": "code",
   "execution_count": null,
   "id": "f964d5d758c2e6c0",
   "metadata": {},
   "outputs": [],
   "source": []
  }
 ],
 "metadata": {
  "kernelspec": {
   "display_name": "Python 3",
   "language": "python",
   "name": "python3"
  },
  "language_info": {
   "codemirror_mode": {
    "name": "ipython",
    "version": 2
   },
   "file_extension": ".py",
   "mimetype": "text/x-python",
   "name": "python",
   "nbconvert_exporter": "python",
   "pygments_lexer": "ipython2",
   "version": "2.7.6"
  }
 },
 "nbformat": 4,
 "nbformat_minor": 5
}
